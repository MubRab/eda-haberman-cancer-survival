{
 "cells": [
  {
   "cell_type": "markdown",
   "metadata": {},
   "source": [
    "# Data Analysis on Haberman Cancer Survival dataset"
   ]
  },
  {
   "cell_type": "markdown",
   "metadata": {},
   "source": [
    "This dataset can be obtained from Kaggle: https://www.kaggle.com/gilsousa/habermans-survival-data-set"
   ]
  },
  {
   "cell_type": "code",
   "execution_count": 1,
   "metadata": {},
   "outputs": [
    {
     "output_type": "execute_result",
     "data": {
      "text/plain": "   age  year  nodes  status\n0   30    64      1       1\n1   30    62      3       1\n2   30    65      0       1\n3   31    59      2       1\n4   31    65      4       1",
      "text/html": "<div>\n<style scoped>\n    .dataframe tbody tr th:only-of-type {\n        vertical-align: middle;\n    }\n\n    .dataframe tbody tr th {\n        vertical-align: top;\n    }\n\n    .dataframe thead th {\n        text-align: right;\n    }\n</style>\n<table border=\"1\" class=\"dataframe\">\n  <thead>\n    <tr style=\"text-align: right;\">\n      <th></th>\n      <th>age</th>\n      <th>year</th>\n      <th>nodes</th>\n      <th>status</th>\n    </tr>\n  </thead>\n  <tbody>\n    <tr>\n      <th>0</th>\n      <td>30</td>\n      <td>64</td>\n      <td>1</td>\n      <td>1</td>\n    </tr>\n    <tr>\n      <th>1</th>\n      <td>30</td>\n      <td>62</td>\n      <td>3</td>\n      <td>1</td>\n    </tr>\n    <tr>\n      <th>2</th>\n      <td>30</td>\n      <td>65</td>\n      <td>0</td>\n      <td>1</td>\n    </tr>\n    <tr>\n      <th>3</th>\n      <td>31</td>\n      <td>59</td>\n      <td>2</td>\n      <td>1</td>\n    </tr>\n    <tr>\n      <th>4</th>\n      <td>31</td>\n      <td>65</td>\n      <td>4</td>\n      <td>1</td>\n    </tr>\n  </tbody>\n</table>\n</div>"
     },
     "metadata": {},
     "execution_count": 1
    }
   ],
   "source": [
    "import numpy as numpy\n",
    "import pandas as pd\n",
    "import seaborn as sns\n",
    "import matplotlib.pyplot as pyplot\n",
    "\n",
    "haberman = pd.read_csv(\"haberman.csv\")\n",
    "haberman.head()"
   ]
  },
  {
   "cell_type": "code",
   "execution_count": 4,
   "metadata": {
    "tags": []
   },
   "outputs": [
    {
     "output_type": "stream",
     "name": "stdout",
     "text": "(306, 4)\n"
    }
   ],
   "source": [
    "print(haberman.shape)"
   ]
  },
  {
   "source": [
    "There is 306 datapoints with 4 features."
   ],
   "cell_type": "markdown",
   "metadata": {}
  },
  {
   "cell_type": "code",
   "execution_count": 5,
   "metadata": {
    "tags": []
   },
   "outputs": [
    {
     "output_type": "stream",
     "name": "stdout",
     "text": "Index(['age', 'year', 'nodes', 'status'], dtype='object')\n"
    }
   ],
   "source": [
    "# Print the column (feature) names\n",
    "print(haberman.columns)"
   ]
  },
  {
   "source": [
    "Feature information:\n",
    "\n",
    "- Age: Represents the age of the patient\n",
    "\n",
    "- Year: The year the patient had the operation\n",
    "\n",
    "- Nodes: The number of Axillary (Lymph) nodes\n",
    "\n",
    "- Status: Indicates how long the patient survived. (1 = More than 5 years, 2 = Within 5 years)\n"
   ],
   "cell_type": "markdown",
   "metadata": {}
  },
  {
   "cell_type": "code",
   "execution_count": 7,
   "metadata": {},
   "outputs": [
    {
     "output_type": "execute_result",
     "data": {
      "text/plain": "1    225\n2     81\nName: status, dtype: int64"
     },
     "metadata": {},
     "execution_count": 7
    }
   ],
   "source": [
    "haberman[\"status\"].value_counts()"
   ]
  },
  {
   "source": [
    "Based on the above figures, we can see that out of the 306 patients, 225 patients survived for more than 5 years and 81 patients died within 5 years"
   ],
   "cell_type": "markdown",
   "metadata": {}
  },
  {
   "cell_type": "code",
   "execution_count": 6,
   "metadata": {},
   "outputs": [
    {
     "output_type": "execute_result",
     "data": {
      "text/plain": "              age        year       nodes      status\ncount  306.000000  306.000000  306.000000  306.000000\nmean    52.457516   62.852941    4.026144    1.264706\nstd     10.803452    3.249405    7.189654    0.441899\nmin     30.000000   58.000000    0.000000    1.000000\n25%     44.000000   60.000000    0.000000    1.000000\n50%     52.000000   63.000000    1.000000    1.000000\n75%     60.750000   65.750000    4.000000    2.000000\nmax     83.000000   69.000000   52.000000    2.000000",
      "text/html": "<div>\n<style scoped>\n    .dataframe tbody tr th:only-of-type {\n        vertical-align: middle;\n    }\n\n    .dataframe tbody tr th {\n        vertical-align: top;\n    }\n\n    .dataframe thead th {\n        text-align: right;\n    }\n</style>\n<table border=\"1\" class=\"dataframe\">\n  <thead>\n    <tr style=\"text-align: right;\">\n      <th></th>\n      <th>age</th>\n      <th>year</th>\n      <th>nodes</th>\n      <th>status</th>\n    </tr>\n  </thead>\n  <tbody>\n    <tr>\n      <th>count</th>\n      <td>306.000000</td>\n      <td>306.000000</td>\n      <td>306.000000</td>\n      <td>306.000000</td>\n    </tr>\n    <tr>\n      <th>mean</th>\n      <td>52.457516</td>\n      <td>62.852941</td>\n      <td>4.026144</td>\n      <td>1.264706</td>\n    </tr>\n    <tr>\n      <th>std</th>\n      <td>10.803452</td>\n      <td>3.249405</td>\n      <td>7.189654</td>\n      <td>0.441899</td>\n    </tr>\n    <tr>\n      <th>min</th>\n      <td>30.000000</td>\n      <td>58.000000</td>\n      <td>0.000000</td>\n      <td>1.000000</td>\n    </tr>\n    <tr>\n      <th>25%</th>\n      <td>44.000000</td>\n      <td>60.000000</td>\n      <td>0.000000</td>\n      <td>1.000000</td>\n    </tr>\n    <tr>\n      <th>50%</th>\n      <td>52.000000</td>\n      <td>63.000000</td>\n      <td>1.000000</td>\n      <td>1.000000</td>\n    </tr>\n    <tr>\n      <th>75%</th>\n      <td>60.750000</td>\n      <td>65.750000</td>\n      <td>4.000000</td>\n      <td>2.000000</td>\n    </tr>\n    <tr>\n      <th>max</th>\n      <td>83.000000</td>\n      <td>69.000000</td>\n      <td>52.000000</td>\n      <td>2.000000</td>\n    </tr>\n  </tbody>\n</table>\n</div>"
     },
     "metadata": {},
     "execution_count": 6
    }
   ],
   "source": [
    "haberman.describe()"
   ]
  },
  {
   "source": [
    "The above provides statistical information based on each attribute"
   ],
   "cell_type": "markdown",
   "metadata": {}
  }
 ],
 "metadata": {
  "kernelspec": {
   "display_name": "Python 3",
   "language": "python",
   "name": "python3"
  },
  "language_info": {
   "codemirror_mode": {
    "name": "ipython",
    "version": 3
   },
   "file_extension": ".py",
   "mimetype": "text/x-python",
   "name": "python",
   "nbconvert_exporter": "python",
   "pygments_lexer": "ipython3",
   "version": "3.8.3-final"
  }
 },
 "nbformat": 4,
 "nbformat_minor": 4
}